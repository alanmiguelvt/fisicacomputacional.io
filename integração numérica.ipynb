{
 "cells": [
  {
   "cell_type": "markdown",
   "id": "f0eef0d7",
   "metadata": {},
   "source": [
    "# Integração Numérica\n",
    "\n",
    "Uma integral pode ser considerada como uma integral definida ou indefinida, sendo que a integral indefinida é outra funçao ou familia de funções e a integral definida é um valor numérico definido sobre um intervalo específico.\n",
    "No cálculo elementar uma integral indefinida de uma função $f$ está associada com a primitiva ou antiderivada que pode ser denotada como $F$, tendo a propriedade: $F'=f$, onde a prima denota a derivada com respeito a varável independente."
   ]
  },
  {
   "cell_type": "markdown",
   "id": "a3302e3d",
   "metadata": {},
   "source": [
    "### Teorema fundamental do cálculo:\n",
    "Se $f$ é uma função contínua sobre o intervalo [a,b] e F é a aintiderivada de f então:\n",
    "        \n",
    "$$\n",
    "\\int_{a}^{b}{f(x)dx} = F(b)-F(a)\n",
    "        $$"
   ]
  },
  {
   "cell_type": "markdown",
   "id": "50dfdcc1",
   "metadata": {},
   "source": [
    "De forma logica podemos ver o conceito de antiderivada utilizando então a definição:\n",
    "    $$\n",
    "    \\frac{d}{dx}\\int_{a}^{x}{F'(t)dt} = f(x)\n",
    "    $$\n",
    "onde podemos ver que se $f=F'$, então a expressão acima mostra que $\\int_{a}^{x}{f(t)dt}$ deve ser a antiderivada de $f$."
   ]
  },
  {
   "cell_type": "markdown",
   "id": "86f65aec",
   "metadata": {},
   "source": [
    "No entanto, a integral pode ser interpretada como área sob uma dada curva e frequentemente estamos limitados pelos métodos analíticos\n",
    "para determinar as antideivadas das funções $f$"
   ]
  },
  {
   "cell_type": "markdown",
   "id": "c53cfd6c",
   "metadata": {},
   "source": [
    "Como um exemplo típico podemos mencionar a integral gaussiana que tem uma área bem definida, mas não tem uma \n",
    "integral em funções elementares"
   ]
  },
  {
   "cell_type": "markdown",
   "id": "6df7295c",
   "metadata": {},
   "source": [
    "### Conceitos de Infimum e maximum:"
   ]
  },
  {
   "cell_type": "markdown",
   "id": "bd81fafd",
   "metadata": {},
   "source": [
    "Considere a partição no intervalo $[a,b]$ dada pela forma específica:\n",
    "    $$\n",
    "    P = \\{a=x_{0}<x_{1}<x_{2}<x_{3},...,x_{n-1},x_{n}=b\\}\n",
    "    $$"
   ]
  },
  {
   "cell_type": "markdown",
   "id": "3a2cdc26",
   "metadata": {},
   "source": [
    "Desta forma o intervalo $[a,b]$ ficou em $n$ subintervalos da forma $[x_{i},x_{i+1}]$. Agora vamos a denotar o valor inferior ou infimum como:"
   ]
  },
  {
   "cell_type": "markdown",
   "id": "4eb7b87e",
   "metadata": {},
   "source": [
    "$$\n",
    "m_{i} = inf\\{f(x):x_{i} \\le x_{i+1}\\}\n",
    "$$\n"
   ]
  },
  {
   "cell_type": "markdown",
   "id": "10fac4c4",
   "metadata": {},
   "source": [
    "Também de forma analoga definimos denotamos o valor superior ou supremum como:\n",
    "$$\n",
    "M_{i} = max\\{f(x):x_{i} \\le x_{i+1}\\}\n",
    "$$"
   ]
  },
  {
   "cell_type": "markdown",
   "id": "a2e07ded",
   "metadata": {},
   "source": [
    "Agora a soma de cada um dos termos anteriores obtem:\n",
    "    $$\n",
    "    L(f,P) = \\sum_{i=0}^{n-1}{m_{i}(x_{i+1}-x_{i})}\n",
    "    $$"
   ]
  },
  {
   "cell_type": "markdown",
   "id": "2806938a",
   "metadata": {},
   "source": [
    "Também de forma similar:\n",
    "    $$\n",
    "    M(f,P) = \\sum_{i=0}^{n-1}{M_{i}(x_{i+1}-x_{i})}\n",
    "    $$"
   ]
  },
  {
   "cell_type": "markdown",
   "id": "178c3b44",
   "metadata": {},
   "source": [
    "Exemplo: Determinar a soma inferior e superior da função $f(x)=x^{2}$ no intervalo $[0,1]$ se a partição resulta ser:"
   ]
  },
  {
   "cell_type": "markdown",
   "id": "65c1e465",
   "metadata": {},
   "source": [
    "Consideramos a soma:\n",
    "    $$\n",
    "    U(f,p) = M_{0}(x_{1}-x_{0})+ M_{1}(x_{2}-x_{1})+M_{2}(x_{1}-x_{3})+M_{3}(x_{1}-x_{0}),\n",
    "    $$"
   ]
  },
  {
   "cell_type": "markdown",
   "id": "886724f6",
   "metadata": {},
   "source": [
    "determinando os $M_{i}$ e lembrando que cada um deles é calculado no ponto que maximiza o valor da função $f(x)$ e considerando que a função é monotona crescente, então o valor de x corresponde ao maior valor da direita, assim podemos obter:\n",
    "$M_{0} = \\frac{1}{16}$, $M_{1}=\\frac{1}{4}$,$M_{2}=\\frac{9}{16}$ e $M_{3}=1$. Também a largura dos intervalos são os mesmo $\\frac{1}{4}$, então:"
   ]
  },
  {
   "cell_type": "markdown",
   "id": "f5e15de5",
   "metadata": {},
   "source": [
    "$$\n",
    "U(f,p) = \\frac{15}{32}\n",
    "$$"
   ]
  },
  {
   "cell_type": "markdown",
   "id": "b1eb1ae4",
   "metadata": {},
   "source": [
    "De forma similar determinamos o infimum que resulta:"
   ]
  },
  {
   "cell_type": "markdown",
   "id": "2e2e3bb8",
   "metadata": {},
   "source": [
    "$$\n",
    "L(f,p) = \\frac{7}{32}\n",
    "$$\n",
    "o valor exato da integral resulta ser $\\frac{1}{3}$ e o médio do $L$ e $U$ resulta $\\frac{11}{32}$. Portanto, o erro resulta:\n",
    "$\\frac{11}{32}-\\frac{1}{3} = \\frac{1}{96}$."
   ]
  },
  {
   "cell_type": "markdown",
   "id": "4adad3a8",
   "metadata": {},
   "source": [
    "Das considerações anteriores resulta claro mencionar que o infimum subestima o valor da integral e o supremum sobrestima o valor\n",
    "da integral. A integral que procuramos fica entre estes dois valores:\n",
    "    $$\n",
    "    L(f,p) \\le \\int_{a}^{b}{f(x)dx} \\le U(f,p)\n",
    "    $$\n",
    "Se a função $f(x)$ é continua no intervalo $[a,b]$, então temos um e só um número real menor ou igual a $L$ e temos um e só um número real maior ou igual a $U$. Este valor se identifica com o valor da integral."
   ]
  },
  {
   "cell_type": "markdown",
   "id": "3b46d07a",
   "metadata": {},
   "source": [
    "### Método do trapezio"
   ]
  },
  {
   "cell_type": "markdown",
   "id": "582060af",
   "metadata": {},
   "source": [
    "Um método interessante para determinar o valor das integrais de forma numérica resulta de uma interpretação geometrica da integral\n",
    "como área sob a curva de forma que se pode aproximar cada área como um conjunto de partições de retangulos, trapezios ou outras\n",
    "formas polinômicas. A integral é determinada por assumir uma partição $P = \\{a=x_{0}<x_{1}<x_{2}<x_{3},...,x_{n-1},x_{n}=b\\}$, onde podemos observar que para cada subintervalo $[x_{1+1}-x_{i}]$ temos um trapezio com dois lados $f(x_{i+1})$ e $f(x_{i})$.\n",
    "Área do trapezio é igual a largura vezes a altura média e para um subintervalo temos a regra:\n",
    "   $$\n",
    "    \\int_{x_{i}}^{x_{i+1}}{f(x)} \\approx \\frac{1}{2} (x_{1+1}-x_{i}) (f(x_{i+1})+f(x_{i}))\n",
    "    $$"
   ]
  },
  {
   "cell_type": "markdown",
   "id": "ebc2ca4e",
   "metadata": {},
   "source": [
    "Portanto, temos que área completa para o intervalo $[a,b]$:\n",
    "$$\n",
    "\\int_{a}^{b}{f(x)} \\approx \\frac{1}{2} \\sum_{x=0}^{n-1} (x_{1+1}-x_{i}) (f(x_{i+1})+f(x_{i}))\n",
    "$$"
   ]
  },
  {
   "cell_type": "markdown",
   "id": "f7fc70b9",
   "metadata": {},
   "source": [
    "###### Erro associado: \n",
    "Se a função $f$ existe e é contínua sobre o intervalo $[a, b]$ e se a regra do trapezio é usada para determinar a integral com espaçamento uniforma $h$, então para algum ponto $\\xi$ que pertence a $(a,b)$ temos que:\n",
    "$$\n",
    "I − T = − \\frac{1}{12}(b − a)h^{2} f''(\\xi) = O(h^2)\n",
    ")\n",
    "$$\n"
   ]
  },
  {
   "cell_type": "markdown",
   "id": "315dfe2e",
   "metadata": {},
   "source": [
    "###### Exemplo\n",
    "Se usamos a regra do trapezio para determinar o valor da integral:\n",
    "$$\n",
    "\\int_{0}^{1}{e^{-x^2}}\n",
    "$$\n",
    "com um erro de $\\frac{1}{4}\\times 10^{-7}$ quantos pontos devemos utilizar."
   ]
  },
  {
   "cell_type": "markdown",
   "id": "e3ae58dd",
   "metadata": {},
   "source": [
    "Usando a fórmula temos:\n",
    "    $$\n",
    "    f'(x) = -2 x e^{x^{2}} \\\\\n",
    "    f''(x) = (4x^{2}-2)e^{x^{2}}\n",
    "    $$"
   ]
  },
  {
   "cell_type": "markdown",
   "id": "69faf788",
   "metadata": {},
   "source": [
    "Então, da fórmula anterior inferimos que o valor absoluto de  $f''(x) \\le 2$, então:\n",
    "$$\n",
    "\\frac{1}{6}h^{2} \\le \\frac{1}{4}\\times 10^{-4} \\\\\n",
    "    h= 0.00001732\n",
    "$$"
   ]
  },
  {
   "cell_type": "markdown",
   "id": "cc4f1bc3",
   "metadata": {},
   "source": [
    "Considerando $h=1/n$ obtemos que $n<59000$"
   ]
  },
  {
   "cell_type": "markdown",
   "id": "67dcee10",
   "metadata": {},
   "source": [
    "### Integrando em c++"
   ]
  },
  {
   "cell_type": "markdown",
   "id": "3387a1ae",
   "metadata": {},
   "source": [
    "#include<iostream>\n",
    "#include<math.h>\n",
    "\n",
    "/* Função */\n",
    "#define f(x) 1/(1+pow(x,2))\n",
    "\n",
    "using namespace std;\n",
    "int main()\n",
    "{\n",
    " float lower, upper, integration=0.0, h, k;\n",
    " int i, subInterval;\n",
    "\n",
    " /* Input */\n",
    " cout<<\"Limite inferior de integração: \";\n",
    " cin>>lower;\n",
    " cout<<\"Limite superior de integração: \";\n",
    " cin>>upper;\n",
    " cout<<\"número de subintervalos: \";\n",
    " cin>>subInterval;\n",
    "\n",
    " /* Cálculos */\n",
    "\n",
    " /* Tamanho do h */\n",
    " h = (upper - lower)/subInterval;\n",
    "\n",
    " /* Determinar valor da integral */\n",
    " integration = f(lower) + f(upper);\n",
    "\n",
    " for(i=1; i<= subInterval-1; i++)\n",
    " {\n",
    "  k = lower + i*stepSize;\n",
    "  integration = integration + 2 * (f(k));\n",
    " }\n",
    "\n",
    " integration = integration * stepSize/2;\n",
    "\n",
    " cout<< endl<<\"Valor da integração: \"<< integration;\n",
    "\n",
    " return 0;\n",
    "}"
   ]
  },
  {
   "cell_type": "code",
   "execution_count": null,
   "id": "892fe0e8",
   "metadata": {},
   "outputs": [],
   "source": []
  }
 ],
 "metadata": {
  "kernelspec": {
   "display_name": "Python 3 (ipykernel)",
   "language": "python",
   "name": "python3"
  },
  "language_info": {
   "codemirror_mode": {
    "name": "ipython",
    "version": 3
   },
   "file_extension": ".py",
   "mimetype": "text/x-python",
   "name": "python",
   "nbconvert_exporter": "python",
   "pygments_lexer": "ipython3",
   "version": "3.7.9"
  }
 },
 "nbformat": 4,
 "nbformat_minor": 5
}
