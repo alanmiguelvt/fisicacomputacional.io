{
 "cells": [
  {
   "cell_type": "markdown",
   "id": "9b0a8489",
   "metadata": {},
   "source": [
    "#  <span style=\"color:red\">Física Computacional</span>\n",
    "## 1. Emenda resumida\n",
    "## 2. Critérios de aprovação\n",
    "## 3. Bibliografia\n"
   ]
  },
  {
   "cell_type": "markdown",
   "id": "edf3cc22",
   "metadata": {},
   "source": [
    "## <span style=\"color:Blue\">1. Emenda Resumida</span>\n",
    "    1.  Elementos de Métodos Numéricos: \n",
    "    conceitos iniciais sobre linguagens de programação, derivadas e integrais numericas,\n",
    "    interpolação e solução de equações diferenciais. \n",
    "    2.  Introdução ao Analises de Dados: variáveis aleatórias, conceitos de probabilidade e estatísitica,valores esperados, propagação de erros, funções de distribuição, métodos de monte carlo, estimação de parâmetros, métodos de mínimos quadrados, estatística de chi-quadrado e método de likelihook, intervalos de confiança.\n",
    "    3.  Aprendizado de máquina e Inteligência artificial"
   ]
  },
  {
   "cell_type": "markdown",
   "id": "a3571634",
   "metadata": {},
   "source": [
    "## <span style=\"color:Blue\">2. Critérios de Aprovação</span>\n",
    "    1. Listas com nota: entregar na semana seguinte depois de ser entregue pelo professor. \n",
    "    Podem enviar em PDF pelo e-mail:   alan.toribio@ufes.br e para enviar a lista precisa o texto ser ordenada e legível.\n",
    "    2. Projeto de física computacional\n",
    "        1. Sistema Solar\n",
    "        2. Oscilador Anarmonico\n",
    "        3. movimentp Browniano\n",
    "        4. Movimento caotico\n",
    "        5. Estatística de chi-quadrado para umconjunto de dados\n",
    "        6. Simulação de monte carlo\n",
    "        7. Inteligencia artificial\n",
    "    3. Nota: nota das listas + apresentação\n",
    "    4. Como apresentar o projeto: programa com métodos usados + relatório\n",
    "        relatório deve incluir: 1. página de rosto: Página inicial com título e informações dos alunos,o texto deve inlcuir: introdução fazendo um histórico do problema e apresentando seu próprio trabalho, objetivos, descrição dos dados (mesmo simulados), metodologia, isto é, as ferramentas usadas, resultados e conclusões, referências e anexos inlcuir o código em C++, fortran, python ou R."
   ]
  },
  {
   "cell_type": "markdown",
   "id": "41ae7328",
   "metadata": {},
   "source": [
    "## <span style=\"color:Blue\">3. Bibliografia</span>\n",
    "1. KONSTANTINOS N. ANAGNOSTOPOULOS, COMPUTATIONAL PHYSICS, A Practical Introduction to Computational Physics and Scientific Computing (using C++) Athens, 2016: http://www.physics.ntua.gr/konstant/ComputationalPhysics/C++/Book/ComputationalPhysicsKNA2ndEd_nocover.pdf\n",
    "2. G. Cowan, Statistical Data Analysis, Clarendon, Oxford, 1998\n",
    "3. Ilya Narsky and Frank C. Porter, Statistical Analysis Techniques in \n",
    "Particle Physics, Wiley, 2014.\n",
    "4. Brandt, Statistical and Computational Methods in Data Analysis, \n",
    "Springer, New York, 1998.\n",
    "5. Numerical Recipes: The Art of Scientific Computing, William H. Press, Saul A. Teukolsky, William T. Vetterling, and Brian P. Flannery, 3rd Edition (Cambridge University Press, Cambridge, 2007).\n",
    "6. Tao Pang. An Introduction to Computational Physics. Cambridge Uni\u0002versity Press, 2nd edition, 2006.\n"
   ]
  },
  {
   "cell_type": "markdown",
   "id": "dbe5ef4b",
   "metadata": {},
   "source": [
    "# Conceitos Iniciais"
   ]
  },
  {
   "cell_type": "markdown",
   "id": "9635ab48",
   "metadata": {},
   "source": [
    "## Que é Física Computacional\n",
    "\n",
    "![descricao da imagem](https://media.licdn.com/dms/image/C4D12AQFJhRrMYa71IQ/article-inline_image-shrink_1500_2232/0/1592950908202?e=1684368000&v=beta&t=RGyk202MgaO2th-K6IX9CLsGOalZuIqKqFVQ6Ac-Kzs)\n",
    "\n"
   ]
  },
  {
   "cell_type": "markdown",
   "id": "ecc87415",
   "metadata": {},
   "source": [
    "## Elementos de linguagens de Programação\n",
    "\n",
    "Linguagens de programação são um conjunto de regras semánticas padronizadas que informam ao computador o que fazer.\n",
    "Estes programas são compilados ou interpretados em linguagem de máquina para o microprocessador entender os comandos.\n",
    "Exemplos de linguagens compilados:\n",
    "* Ada\n",
    "* ALGOL\n",
    "* BASIC\n",
    "* C\n",
    "* C++\n",
    "* C#\n",
    "* COBOL\n",
    "* Common Lisp\n",
    "* Fortran\n",
    "* JOVIAL\n",
    "* Java\n",
    "* LabVIEW\n",
    "* Pascal\n",
    "* Rust, etc\n",
    "\n",
    "Linguagen Interpretada:\n",
    "Linguagem interpretada é uma linguagem de programação em que o código fonte nessa linguagem é executado por um programa de computador chamado interpretador, que em seguida é executado pelo sistema operacional ou processador. Exemplos:\n",
    "\n",
    "* JavaScript\n",
    "* Logo\n",
    "* Lua\n",
    "* MUMPS\n",
    "* PHP\n",
    "* Python\n",
    "* R\n",
    "* Ruby\n",
    "* Smalltalk\n",
    "* Squeak\n",
    "* VBScript\n",
    "* Tcl, etc"
   ]
  },
  {
   "cell_type": "markdown",
   "id": "d662b3a7",
   "metadata": {},
   "source": [
    "## Breve Introdução a C++\n"
   ]
  },
  {
   "cell_type": "code",
   "execution_count": 1,
   "id": "990d1469",
   "metadata": {},
   "outputs": [
    {
     "ename": "SyntaxError",
     "evalue": "invalid character '”' (U+201D) (1612224760.py, line 5)",
     "output_type": "error",
     "traceback": [
      "\u001b[1;36m  Cell \u001b[1;32mIn[1], line 5\u001b[1;36m\u001b[0m\n\u001b[1;33m    cout << ” Hello World!\\n” ;\u001b[0m\n\u001b[1;37m            ^\u001b[0m\n\u001b[1;31mSyntaxError\u001b[0m\u001b[1;31m:\u001b[0m invalid character '”' (U+201D)\n"
     ]
    }
   ],
   "source": [
    "#include <iostream >\n",
    "using namespace std ;\n",
    "int main ( ) {\n",
    "This i s a comment.\n",
    "cout << ” Hello World!\\n” ;\n",
    "}\""
   ]
  },
  {
   "cell_type": "markdown",
   "id": "5dda23f4",
   "metadata": {},
   "source": [
    "### Hello Word"
   ]
  },
  {
   "cell_type": "markdown",
   "id": "651a1b0f",
   "metadata": {},
   "source": [
    "1. #include<iostream> é uma diretiva do pré-processador. As linhas com # são processadas pelo pré-processador antes do programa ser compilado. Também se pode falar que é um arquivo de cabeçalho de entrada/saída este arquivo deve ser incluido para qualquer programa que envia dados de saída ou recebe dados de entrada do teclado.\n",
    "2. main é um bloco de construção de programa chamado de função\n",
    "3. int indica o tipo de variável no cado inteiro.\n",
    "4. cout é um ambiente de nome de std.\n",
    "\n"
   ]
  },
  {
   "cell_type": "markdown",
   "id": "ddb730b9",
   "metadata": {},
   "source": [
    "#include <iostream>\n",
    "using namespace std;\n",
    "int main(){\n",
    "    int integer1, integer2, sum;\n",
    "    cout <<\"Digite o primeiro inteiro\\n\";\n",
    "    cin >> integer1;\n",
    "    cout << \"Digite o segundo inteiro \\n\";\n",
    "    cin >> integer2\n",
    "    sum = integer1+integer2\n",
    "    cout <<\"A soma é\"<< sum <<endl;\n",
    "    return 0;\n",
    "}"
   ]
  },
  {
   "cell_type": "markdown",
   "id": "efbb63a5",
   "metadata": {},
   "source": [
    "#### Digite o primeiro inteiro\n",
    "#### 100\n",
    "#### Digite o segundo inteiro\n",
    "#### 200\n",
    "#### A soma é 300"
   ]
  },
  {
   "cell_type": "markdown",
   "id": "0f313d97",
   "metadata": {},
   "source": [
    "cin é um objeto de entrada de stream e o operador de extração >> para obter um valor do teclado."
   ]
  },
  {
   "cell_type": "markdown",
   "id": "0e7e25b3",
   "metadata": {},
   "source": [
    "## Conceitos de Memória\n",
    "* Nomes de variáveis como integer1 e integer2 correspondem a posições na memória do computador.\n"
   ]
  },
  {
   "cell_type": "markdown",
   "id": "a427207a",
   "metadata": {},
   "source": [
    "## Exemplo equação quadratica: estruturas de controle\n",
    "* A estrutura de controle **if** é uma estrutura de seleção para executar uma ação quando a afirmação for verdadeira.\n",
    "* A estrutura **if/else** permite ao programador especificar que uma ação deve ser executada quando a condição for verdadeira ou caso seja falsa pode executar outra ação."
   ]
  },
  {
   "cell_type": "code",
   "execution_count": 2,
   "id": "a1bf5ed9",
   "metadata": {},
   "outputs": [
    {
     "ename": "SyntaxError",
     "evalue": "invalid syntax (3143490966.py, line 3)",
     "output_type": "error",
     "traceback": [
      "\u001b[1;36m  Cell \u001b[1;32mIn[2], line 3\u001b[1;36m\u001b[0m\n\u001b[1;33m    using namespace std;\u001b[0m\n\u001b[1;37m          ^\u001b[0m\n\u001b[1;31mSyntaxError\u001b[0m\u001b[1;31m:\u001b[0m invalid syntax\n"
     ]
    }
   ],
   "source": [
    "#include <iostream>\n",
    "#include <cmath>\n",
    "using namespace std;\n",
    "\n",
    "int main() {\n",
    "\n",
    "    float a, b, c, x1, x2, discriminante, partereal, parteimaginaria;\n",
    "    cout << \"Definir coeficientes a, b e c: \";\n",
    "    cin >> a >> b >> c;\n",
    "    discriminante = b*b - 4*a*c;\n",
    "\n",
    "    if (discriminante > 0) {\n",
    "        x1 = (-b + sqrt(discriminante)) / (2*a);\n",
    "        x2 = (-b - sqrt(discriminante)) / (2*a);\n",
    "        cout << \"Raizes sao reais e diferentes.\" << endl;\n",
    "        cout << \"x1 = \" << x1 << endl;\n",
    "        cout << \"x2 = \" << x2 << endl;\n",
    "    }\n",
    "\n",
    "    else if (discriminante == 0) {\n",
    "        cout << \"Raizes sao reais e iguais.\" << endl;\n",
    "        x1 = -b/(2*a);\n",
    "        cout << \"x1 = x2 =\" << x1 << endl;\n",
    "    }\n",
    "\n",
    "    else {\n",
    "        partereal = -b/(2*a);\n",
    "        parteimaginaria =sqrt(-discriminante)/(2*a);\n",
    "        cout << \"Raizes sao complexas e diferentes.\"  << endl;\n",
    "        cout << \"x1 = \" << partereal << \"+\" << parteimaginaria << \"i\" << endl;\n",
    "        cout << \"x2 = \" << partereal << \"-\" << parteimaginaria << \"i\" << endl;\n",
    "    }\n",
    "\n",
    "    return 0;\n",
    "}\n"
   ]
  },
  {
   "cell_type": "markdown",
   "id": "d93f48be",
   "metadata": {},
   "source": [
    "## Teorema de Taylor:\n",
    "_Teorema_: Se _f_ e uma função diferenciável e se $f^{n+1}$ existe no intervalo \\(a,b\\), entao para qualquer ponto $c$ e $x$ no intervalo \\[a,b\\] existe um ponto $\\xi$ entre $c$ e $x$ tal que,$$\n",
    "f(x) = \\sum{\\frac{1}{k!}} f^{k}(c) (x-c)^k + E_{n}(x)\n",
    "$$\n",
    "onde o $E_{n}$ e conhecido como o resto de Lagrange,\n",
    "\n",
    "$$\n",
    "E_{n} = \\frac{1}{(1+n)!} f^{n+1}(\\xi)(x-c)^{n+1}\n",
    "$$\n",
    "#### Exemplo:considere a serie de Taylor do $f(x)=\\ln x$ no intervalo $a=1$, $b=2$ e $c=1$\n",
    "\n",
    "Podemos demnstrar que as derivadas podem ser colocadas na forma compacta:\n",
    "\n",
    "$$\n",
    "f^{k}(x) = (-1)^{k-1} (k-1)! x^{-k}\n",
    "$$\n",
    "\n",
    "Par intervalo $1\\leq x \\leq 2$:\n",
    "\n",
    "$$\n",
    "\\ln x = \\sum_{k=1}^{n} {(-1)^{k-1} \\frac{1}{k} (x-1)^{k}} + (-1)^{n}\\frac{1}{n+1}\\xi^{-(n+1)} (x-1)^{n+1}\n",
    "$$\n",
    "\n",
    "Podemos mostrar alguns termos:\n",
    "\n",
    "$$\n",
    "\\ln x = (x-1)-\\frac{(x-1)^{2}}{2} + \\frac{(x-1)^{3}}{3!}-...+ (-1)^{n-1} \\frac{1}{n} (x-1)^{n} + E_{n}\n",
    "$$\n",
    "\n",
    "Por exemplo, para o caso especifico de $\\ln2$:\n",
    "\n",
    "$$\n",
    "\\ln 2 = 1-\\frac{1}{2}+ \\frac{1}{3}-\\frac{1}{4}+...+ E_{n}(2)\n",
    "$$\n",
    "\n",
    "<span style='font-family:Arial'>**Tarefa**</span>: usando as definicoes apresentar mostrar que $$E_{n}(2) < \\frac{1}{1+n}$$.\n",
    "\n",
    "\n",
    "\n",
    "\n"
   ]
  },
  {
   "cell_type": "markdown",
   "id": "c6c33978",
   "metadata": {},
   "source": [
    "## Derivadas numéricas\n",
    "Usando a definicao da serie de Taylor e possivel determinar uma forma de calcular a derivada numerica em tres formas diferentes chamadas: derivada progressiva, regressiva e central. A derivada numerica e um conceito fundamental para todo calculo envolvendo equacoes diferenciais. Resulta fundamental saber determinar uma derivada numerica. Por definicao derivada numérica esta associada a um erro de cálculo. Vamos a considerar os detalhes.\n",
    "### Derivada progressiva\n",
    "Podemos usar a série de Taylor para escrever:\n",
    "$$\n",
    "f(x+h) = f(x) + hf'(x) + \\frac{1}{2}h^{2}f''(\\xi)\n",
    "$$\n",
    "Colocando em evidencia podemos concluir que a derivada primeira fica dada pela expressão:\n",
    "$$\n",
    "f'(x) = \\frac{f(x+h)-f(x)}{h} - \\frac{1}{2}hf''(\\xi)\n",
    "$$\n",
    "### Derivada Regresiva\n",
    "Podemos usar de novo a série de taylor para escrever:\n",
    "$$\n",
    "f(x-h) = f(x) - hf'(x) + \\frac{1}{2}h^{2}f''(\\xi)\n",
    "$$\n",
    "Colocando em evidencia podemos concluir que a derivada primeira fica dada pela expressão:\n",
    "$$\n",
    "f'(x) = \\frac{f(x)-f(x-h)}{h} - \\frac{1}{2}hf''(\\xi)\n",
    "$$\n",
    "### Derivação Central\n",
    "Podemos usar duas vezes a série de Taylor:\n",
    "$$\n",
    "f(x+h) = f(x) + hf'(x) + \\frac{1}{2!}h^{2}f''(x) + \\frac{1}{3!}h^{3}f'''(x)+\\frac{1}{4!}h^{4}f^{IV}(\\xi) \\\\\n",
    "f(x-h) = f(x) - hf'(x) + \\frac{1}{2!}h^{2}f''(x) - \\frac{1}{3!}h^{3}f'''(x)+\\frac{1}{4!}h^{4}f^{IV}(\\xi) \\\\\n",
    "$$\n",
    "Agora se subtraimos a primeira da segunda conduce a uma importante formula para a primeira derivada central:\n",
    "$$\n",
    "f'(x) = \\frac{1}{2h}(f(x+h)-f(x-h)) -\\frac{1}{6}h^{2}f'''(\\xi)\n",
    "$$\n",
    "### Segunda derivada\n",
    "Outro resultado interessante resulta de considerar a soma das séries de Taylor de forma que podemos obter uma fórmula para a segunda derivada numérica:\n",
    "$$\n",
    "f(x+h)+f(x-h)=2f(x) + h^{2}f''(x) + 2[\\frac{1}{4!}h^{4}f^{IV}(x)+...]\n",
    "$$\n",
    "Se rearranjamos os termos podemos obter que:\n",
    "$$\n",
    "f''(x) = \\frac{1}{h^{2}} (f(x+h)-2f(x)+f(x-h))\n",
    "$$\n"
   ]
  },
  {
   "cell_type": "markdown",
   "id": "10e54530",
   "metadata": {},
   "source": [
    "### Codigo que calcula a derivada de uma dada funcao usando a definicao de derivada central"
   ]
  },
  {
   "cell_type": "code",
   "execution_count": 3,
   "id": "bd5b3a5b",
   "metadata": {},
   "outputs": [
    {
     "ename": "SyntaxError",
     "evalue": "invalid syntax (2177688325.py, line 5)",
     "output_type": "error",
     "traceback": [
      "\u001b[1;36m  Cell \u001b[1;32mIn[3], line 5\u001b[1;36m\u001b[0m\n\u001b[1;33m    // funcao para derivar\u001b[0m\n\u001b[1;37m    ^\u001b[0m\n\u001b[1;31mSyntaxError\u001b[0m\u001b[1;31m:\u001b[0m invalid syntax\n"
     ]
    }
   ],
   "source": [
    "#include <iostream>\n",
    "#include <iomanip>\n",
    "#include <cmath>\n",
    "\n",
    "// funcao para derivar\n",
    "double f (double var, void * params){\n",
    "  (void)(params); \n",
    "  return pow (var, 1.5);\n",
    "}\n",
    "\n",
    "// Derivada central\n",
    "double derivative1(double var, double f(double,void*), double h){ \n",
    "return (f(var+h,NULL) - f(var-h,NULL) )/2.0/h; \n",
    "}\n",
    "\n",
    "\n",
    "\n",
    "int main (void){\n",
    "\n",
    "\n",
    "  for (int i=10;i>0;i--){\n",
    "  double h0=pow(10,-i);\n",
    "  double x=2.0;\n",
    "  double exact = 1.5 * sqrt(x);\n",
    "  double test1=derivative1(x,f,h0);\n",
    "  std::cout << \"h0 = \" << h0 << std::endl;\n",
    "  std::cout << \"Exact      = \"  << std::scientific<<std::setprecision(15) << exact << std::endl;\n",
    "  std::cout << \"Naive step = \"  << std::setprecision(15) << test1 <<\", diff = \" << std::setprecision(15)<< exact-test1 << \", percent error = \" << (exact-test1)/exact*100.0 << std::endl;\n",
    "}\n",
    "\n",
    "\n",
    " return 0;\n",
    "}"
   ]
  },
  {
   "cell_type": "code",
   "execution_count": 4,
   "id": "2d9c377a",
   "metadata": {},
   "outputs": [
    {
     "ename": "SyntaxError",
     "evalue": "invalid syntax. Maybe you meant '==' or ':=' instead of '='? (2787772904.py, line 3)",
     "output_type": "error",
     "traceback": [
      "\u001b[1;36m  Cell \u001b[1;32mIn[4], line 3\u001b[1;36m\u001b[0m\n\u001b[1;33m    aproximacao = 2.121318676273631e+00, diff = 1.667286011475255e-06, percent error = 7.859661632610832e-05\u001b[0m\n\u001b[1;37m    ^\u001b[0m\n\u001b[1;31mSyntaxError\u001b[0m\u001b[1;31m:\u001b[0m invalid syntax. Maybe you meant '==' or ':=' instead of '='?\n"
     ]
    }
   ],
   "source": [
    "h0 = 1e-10\n",
    "Exato      = 2.121320343559643e+00\n",
    "aproximacao = 2.121318676273631e+00, diff = 1.667286011475255e-06, percent error = 7.859661632610832e-05\n",
    "h0 = 1.000000000000000e-09\n",
    "Exato      = 2.121320343559643e+00\n",
    "aproximacao = 2.121320674675076e+00, diff = -3.311154328500265e-07, percent error = -1.560893119491818e-05\n",
    "h0 = 1.000000000000000e-08\n",
    "Exato      = 2.121320343559643e+00\n",
    "aproximacao = 2.121320341608168e+00, diff = 1.951474537520426e-09, percent error = 9.199339191957163e-08\n",
    "h0 = 1.000000000000000e-07\n",
    "Exato      = 2.121320343559643e+00\n",
    "aproximacao = 2.121320341608168e+00, diff = 1.951474537520426e-09, percent error = 9.199339191957163e-08\n",
    "h0 = 1.000000000000000e-06\n",
    "Exato      = 2.121320343559643e+00\n",
    "aproximacao = 2.121320343606570e+00, diff = -4.692690680485612e-11, percent error = -2.212155601454860e-09\n",
    "h0 = 1.000000000000000e-05\n",
    "Exato      = 2.121320343559643e+00\n",
    "aproximacao = 2.121320343584365e+00, diff = -2.472244631235299e-11, percent error = -1.165427295665677e-09\n",
    "h0 = 1.000000000000000e-04\n",
    "Exato      = 2.121320343559643e+00\n",
    "aproximacao = 2.121320343340116e+00, diff = 2.195266191051815e-10, percent error = 1.034858406801534e-08\n",
    "h0 = 1.000000000000000e-03\n",
    "Exato      = 2.121320343559643e+00\n",
    "aproximacao = 2.121320321462283e+00, diff = 2.209735949776359e-08, percent error = 1.041679516479040e-06\n",
    "h0 = 1.000000000000000e-02\n",
    "Exato      = 2.121320343559643e+00\n",
    "aproximacao = 2.121318133840577e+00, diff = 2.209719065504601e-06, percent error = 1.041671557157002e-04\n",
    "h0 = 1.000000000000000e-01\n",
    "Exato      = 2.121320343559643e+00\n",
    "aproximacao = 2.121099269013200e+00, diff = 2.210745464426012e-04, percent error = 1.042155406248691e-02\n"
   ]
  },
  {
   "cell_type": "markdown",
   "id": "27e434af",
   "metadata": {},
   "source": [
    "## Sobre os cabecalhos\n",
    "#include <iomanip>\n",
    "#include <cmath>\n",
    "A biblioteca **iomanip** permite formatar a entrada e saida de dados"
   ]
  },
  {
   "cell_type": "code",
   "execution_count": 5,
   "id": "d7088ce8",
   "metadata": {},
   "outputs": [
    {
     "ename": "SyntaxError",
     "evalue": "invalid syntax (3222830804.py, line 4)",
     "output_type": "error",
     "traceback": [
      "\u001b[1;36m  Cell \u001b[1;32mIn[5], line 4\u001b[1;36m\u001b[0m\n\u001b[1;33m    int main(){\u001b[0m\n\u001b[1;37m        ^\u001b[0m\n\u001b[1;31mSyntaxError\u001b[0m\u001b[1;31m:\u001b[0m invalid syntax\n"
     ]
    }
   ],
   "source": [
    "#include <iostream>\n",
    "#include <iomanip>\n",
    "\n",
    "int main(){\n",
    "  double pi = 3.14159;\n",
    "  std::cout << std::setprecision( 7 ) << pi << '\\n';\n",
    "  return 0;\n",
    "}"
   ]
  },
  {
   "cell_type": "markdown",
   "id": "047aaa42",
   "metadata": {},
   "source": [
    "saida sera 3.14159"
   ]
  },
  {
   "cell_type": "markdown",
   "id": "d3d0a32b",
   "metadata": {},
   "source": [
    "###### A biblioteca cmath tem funcoes matematicas diversas podemos ver algumas\n",
    "![Algumas funcoes](https://uxmankabir.files.wordpress.com/2015/10/cmathfunctions.png)\n"
   ]
  },
  {
   "cell_type": "markdown",
   "id": "67c9860c",
   "metadata": {},
   "source": [
    "### Links sobre programação c++:\n",
    "[Exemplos de códigos c++](https://github.com/ergenekonyigit/Numerical-Analysis-Examples/tree/main/C%2B%2B) \n",
    "\n",
    "[Tutorial sobre programação c++](https://github.com/ergenekonyigit/Numerical-Analysis-Examples/tree/main/C%2B%2B)\n",
    "\n",
    "[Compilador online várias linguagens](https://www.jdoodle.com/)\n",
    "\n"
   ]
  },
  {
   "cell_type": "markdown",
   "id": "10edc2fa",
   "metadata": {},
   "source": [
    "## Breve Introdução a Fortran\n",
    "Fortran foi desenvolvido para ser usado em aplicações numéricas e computação científica sendo que seu nome vem de FORmulate TRANslate e é uma linguagem de alta pergormance."
   ]
  },
  {
   "cell_type": "code",
   "execution_count": 6,
   "id": "1a17f04b",
   "metadata": {},
   "outputs": [
    {
     "ename": "SyntaxError",
     "evalue": "invalid syntax (3135498766.py, line 1)",
     "output_type": "error",
     "traceback": [
      "\u001b[1;36m  Cell \u001b[1;32mIn[6], line 1\u001b[1;36m\u001b[0m\n\u001b[1;33m    program mrua\u001b[0m\n\u001b[1;37m            ^\u001b[0m\n\u001b[1;31mSyntaxError\u001b[0m\u001b[1;31m:\u001b[0m invalid syntax\n"
     ]
    }
   ],
   "source": [
    "program mrua\n",
    "implicit none                ! isto nos obriga a declarar todas as variáveis que usaremos (recomendável)\n",
    "real :: x0, x, v0, a, t, dt  ! variáveis reais (ponto flutuante)\n",
    "integer :: I, N\n",
    "\n",
    "print*, 'entre x0, v0, a, t, N'\n",
    "read(5,*) x0, v0, a, t, N\n",
    "dt = t/N       ! passo de tempo: definido pelo tempo máximo e o numero de pontos da trajetória\n",
    "t = 0\n",
    "\n",
    "do i = 1, N\n",
    "   x = x0 + v0*t + 0.5*a*t**2\n",
    "   print*, t, x\n",
    "   t = t + dt\n",
    "end do\n",
    "\n",
    "end program mrua"
   ]
  },
  {
   "cell_type": "markdown",
   "id": "68adf86b",
   "metadata": {},
   "source": [
    "### Links sobre programação Fortran\n",
    "\n",
    "[Tutorial sobre Fortran](https://fiscomp.if.ufrgs.br/index.php/FORTRAN#:~:text=Em%20FORTRAN%20existem%20cinco%20tipos,%2D%3E%20logica%2C%20exemplo%3A%20.)\n",
    "\n",
    "[Tutorial sobre Fortran](https://www.tutorialspoint.com/fortran/fortran_quick_guide.htm)"
   ]
  },
  {
   "cell_type": "markdown",
   "id": "00abc097",
   "metadata": {},
   "source": [
    "\n",
    "\n",
    "## Exemplos numéricos sobre física básica: mecânica\n",
    "## Lista de Exercícios"
   ]
  }
 ],
 "metadata": {
  "kernelspec": {
   "display_name": "Python 3 (ipykernel)",
   "language": "python",
   "name": "python3"
  },
  "language_info": {
   "codemirror_mode": {
    "name": "ipython",
    "version": 3
   },
   "file_extension": ".py",
   "mimetype": "text/x-python",
   "name": "python",
   "nbconvert_exporter": "python",
   "pygments_lexer": "ipython3",
   "version": "3.7.9"
  }
 },
 "nbformat": 4,
 "nbformat_minor": 5
}
